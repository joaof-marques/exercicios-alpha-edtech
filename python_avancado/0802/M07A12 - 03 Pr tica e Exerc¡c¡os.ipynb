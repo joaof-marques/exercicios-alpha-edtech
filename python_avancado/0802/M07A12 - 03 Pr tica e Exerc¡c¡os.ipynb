{
  "nbformat": 4,
  "nbformat_minor": 0,
  "metadata": {
    "colab": {
      "private_outputs": true,
      "provenance": [],
      "collapsed_sections": [
        "3qBHy5i02A-S"
      ]
    },
    "kernelspec": {
      "name": "python3",
      "display_name": "Python 3"
    },
    "language_info": {
      "name": "python"
    }
  },
  "cells": [
    {
      "cell_type": "code",
      "execution_count": null,
      "metadata": {
        "id": "eZzYZCwRaxay"
      },
      "outputs": [],
      "source": [
        "# ALGORITMO DE QUICKSORT\n",
        "def quicksort(array):\n",
        "    if len(array) <= 1:\n",
        "        return array\n",
        "    else:\n",
        "        pivô = array[-1]\n",
        "        menores = [x for x in array[1:] if x <= pivô]\n",
        "        maiores = [x for x in array[1:] if x > pivô]\n",
        "        print(f'{menores} | {pivô} | {maiores}')\n",
        "        return quicksort(menores) + [pivô] + quicksort(maiores)\n",
        "\n",
        "array_exemplo = [2, 4, 1, 3, 8, 7, 9, 6, 5]\n",
        "array_ordenado = quicksort(array_exemplo)\n",
        "print(f'ARRAY ORDENADO: {array_ordenado}')"
      ]
    },
    {
      "cell_type": "code",
      "source": [
        "# ALGORITMO DE MERGESORT\n",
        "def merge_sort(array):\n",
        "    if len(array) > 1:\n",
        "        meio = len(array) // 2\n",
        "        esquerda = array[:meio]\n",
        "        direita = array[meio:]\n",
        "\n",
        "        # Ordena as metades\n",
        "        print(f'{esquerda} | {direita}')\n",
        "        merge_sort(esquerda)\n",
        "        merge_sort(direita)\n",
        "\n",
        "        # Mescla as metades ordenadas\n",
        "        i = j = k = 0\n",
        "\n",
        "        # Enquanto houver elementos em ambas as metades\n",
        "        while i < len(esquerda) and j < len(direita):\n",
        "            if esquerda[i] < direita[j]:\n",
        "                array[k] = esquerda[i]\n",
        "                i += 1\n",
        "            else:\n",
        "                array[k] = direita[j]\n",
        "                j += 1\n",
        "            k += 1\n",
        "\n",
        "        # Verifica se ainda há elementos na metade esquerda\n",
        "        while i < len(esquerda):\n",
        "            array[k] = esquerda[i]\n",
        "            i += 1\n",
        "            k += 1\n",
        "\n",
        "        # Verifica se ainda há elementos na metade direita\n",
        "        while j < len(direita):\n",
        "            array[k] = direita[j]\n",
        "            j += 1\n",
        "            k += 1\n",
        "\n",
        "    return array\n",
        "\n",
        "# Exemplo de uso\n",
        "array_exemplo = [38, 27, 43, 3, 9, 82, 10]\n",
        "array_ordenado = merge_sort(array_exemplo)\n",
        "print(f'ARRAY ORDENADO: {array_ordenado}')"
      ],
      "metadata": {
        "id": "hHEsDYOxmfC2"
      },
      "execution_count": null,
      "outputs": []
    },
    {
      "cell_type": "code",
      "source": [
        "# ALGORITMO DE HEAP SORT\n",
        "def heapify(array, n, i):\n",
        "    maior = i  # Inicializa o maior como root\n",
        "    esq = 2 * i + 1     # esquerda = 2*i + 1\n",
        "    dir = 2 * i + 2     # direita = 2*i + 2\n",
        "\n",
        "    # Verifica se o filho da esquerda existe e é maior que o root\n",
        "    if esq < n and array[i] < array[esq]:\n",
        "        maior = esq\n",
        "\n",
        "    # Verifica se o filho da direita existe e é maior que o maior até agora\n",
        "    if dir < n and array[maior] < array[dir]:\n",
        "        maior = dir\n",
        "\n",
        "    # Muda o root, se necessário\n",
        "    if maior != i:\n",
        "        array[i], array[maior] = array[maior], array[i]  # swap\n",
        "\n",
        "        # Heapify a raiz.\n",
        "        heapify(array, n, maior)\n",
        "\n",
        "def heapSort(array):\n",
        "    n = len(array)\n",
        "\n",
        "    # Constrói um maxheap.\n",
        "    for i in range(n // 2 - 1, -1, -1):\n",
        "        heapify(array, n, i)\n",
        "\n",
        "    # Extrai elementos um por um\n",
        "    for i in range(n-1, 0, -1):\n",
        "        array[i], array[0] = array[0], array[i]   # swap\n",
        "        heapify(array, i, 0)\n",
        "\n",
        "# Exemplo de uso\n",
        "array_exemplo = [12, 11, 13, 5, 6, 7]\n",
        "heapSort(array_exemplo)\n",
        "print(\"Array ordenado:\", array_exemplo)"
      ],
      "metadata": {
        "id": "aZNAqBG8ruFd"
      },
      "execution_count": null,
      "outputs": []
    },
    {
      "cell_type": "markdown",
      "source": [
        "---\n",
        "**EXERCÍCIO: Sistema de Recomendação de Filmes**\n",
        "\n",
        "Uma plataforma de streaming deseja implementar um novo recurso em seu sistema de recomendação de filmes. O recurso deve ordenar uma lista de filmes recomendados para cada usuário com base na pontuação de relevância calculada por um algoritmo de aprendizado de máquina. Essa pontuação reflete quão relevante um filme é para um usuário específico, variando de 0 a 100. O objetivo é apresentar ao usuário os filmes mais relevantes primeiro.\n",
        "\n",
        "Cada filme na lista de recomendações é representado por um dicionário contendo o título do filme, o ano de lançamento e a pontuação de relevância. O sistema deve ordenar os filmes de forma decrescente pela pontuação de relevância. Em caso de empate na pontuação, os filmes mais recentes devem ser priorizados.\n",
        "\n",
        "**Conjunto de Dados de Exemplo:**\n",
        "\n",
        "\n",
        "```\n",
        "filmes_recomendados = [\n",
        "    {\"titulo\": \"Inception\", \"ano\": 2010, \"relevancia\": 98},\n",
        "    {\"titulo\": \"Interstellar\", \"ano\": 2014, \"relevancia\": 99},\n",
        "    {\"titulo\": \"The Matrix\", \"ano\": 1999, \"relevancia\": 97},\n",
        "    {\"titulo\": \"The Social Network\", \"ano\": 2010, \"relevancia\": 96},\n",
        "    {\"titulo\": \"Pulp Fiction\", \"ano\": 1994, \"relevancia\": 95},\n",
        "    {\"titulo\": \"The Dark Knight\", \"ano\": 2008, \"relevancia\": 99},\n",
        "    {\"titulo\": \"Fight Club\", \"ano\": 1999, \"relevancia\": 98},\n",
        "    {\"titulo\": \"Forrest Gump\", \"ano\": 1994, \"relevancia\": 97},\n",
        "    {\"titulo\": \"Inglourious Basterds\", \"ano\": 2009, \"relevancia\": 96},\n",
        "    {\"titulo\": \"The Prestige\", \"ano\": 2006, \"relevancia\": 95},\n",
        "    {\"titulo\": \"Django Unchained\", \"ano\": 2012, \"relevancia\": 95},\n",
        "    {\"titulo\": \"The Irishman\", \"ano\": 2019, \"relevancia\": 98}\n",
        "]\n",
        "```\n",
        "\n",
        "**Critérios de Ordenação**\n",
        "Primeiro, ordene os filmes pela pontuação de relevância de forma decrescente.\n",
        "Em caso de empate na pontuação de relevância, ordene os filmes de forma decrescente pelo ano de lançamento.\n",
        "\n",
        "**Entregável**\n",
        "Escreva uma função em Python que aceite a lista de filmes recomendados como entrada e retorne a lista ordenada conforme os critérios especificados. Inclua comentários no seu código explicando sua escolha de algoritmo de ordenação e como ele se aplica ao contexto do desafio.\n",
        "\n",
        "---\n",
        "\n",
        "**⚠️ ATENÇÃO ⚠️**\n",
        "> **A plataforma só lhe contratará para implementar esta nova funcionalidade, se você entregar o algoritmo mais performático para ordenar a lista de recomendação.**"
      ],
      "metadata": {
        "id": "2tVjHE9lyyba"
      }
    },
    {
      "cell_type": "code",
      "source": [],
      "metadata": {
        "id": "t1fJkFQv1DNq"
      },
      "execution_count": null,
      "outputs": []
    },
    {
      "cell_type": "markdown",
      "source": [
        "---\n",
        "### **DEMONSTRAÇÃO**\n",
        "\n",
        "**SOUNDEX**\n",
        "\n",
        "O Soundex é um algoritmo fonético utilizado para indexar palavras com base em seu som quando pronunciadas em inglês. A ideia é converter uma palavra em um código que represente foneticamente o som dela, permitindo a busca por palavras que soam de forma semelhante, mesmo que sejam grafadas de maneira diferente. Isso é particularmente útil em sistemas de busca e em aplicações que precisam lidar com erros de digitação ou variações na grafia de palavras.\n",
        "\n",
        "Para este exemplo, vamos implementar uma função de conversão básica para o Soundex e utilizá-la para indexar e buscar palavras em um conjunto de dados. Vamos armazenar os códigos Soundex e as palavras correspondentes usando um hashmap (dicionário em Python), que foi abordado no curso."
      ],
      "metadata": {
        "id": "3qBHy5i02A-S"
      }
    },
    {
      "cell_type": "code",
      "source": [
        "def soundex(word):\n",
        "    # Dicionário Soundex: mapeia letras para seus códigos fonéticos\n",
        "    codes = {\"a\": 0, \"e\": 0, \"i\": 0, \"o\": 0, \"u\": 0, \"h\": 0, \"w\": 0, \"y\": 0,\n",
        "             \"b\": 1, \"f\": 1, \"p\": 1, \"v\": 1,\n",
        "             \"c\": 2, \"g\": 2, \"j\": 2, \"k\": 2, \"q\": 2, \"s\": 2, \"x\": 2, \"z\": 2,\n",
        "             \"d\": 3, \"t\": 3,\n",
        "             \"l\": 4,\n",
        "             \"m\": 5, \"n\": 5,\n",
        "             \"r\": 6}\n",
        "\n",
        "    # Primeira letra em maiúscula\n",
        "    soundex_code = word[0].upper()\n",
        "\n",
        "    # Converte a palavra para os códigos fonéticos, descartando vogais e caracteres específicos após o primeiro caractere\n",
        "    previous_code = None\n",
        "    for letter in word[1:]:\n",
        "        code = codes.get(letter, \"\")\n",
        "        if code != previous_code and code != 0:\n",
        "            soundex_code += str(code)\n",
        "        previous_code = code\n",
        "\n",
        "    # Ajusta o código para ter exatamente 4 caracteres\n",
        "    soundex_code = (soundex_code + \"000\")[:4]\n",
        "\n",
        "    return soundex_code\n",
        "\n",
        "\n",
        "class SoundexIndex:\n",
        "    def __init__(self):\n",
        "        self.index = {}\n",
        "\n",
        "    def add_word(self, word):\n",
        "        code = soundex(word)\n",
        "        if code not in self.index:\n",
        "            self.index[code] = [word]\n",
        "        else:\n",
        "            self.index[code].append(word)\n",
        "\n",
        "    def search(self, query):\n",
        "        code = soundex(query)\n",
        "        return self.index.get(code, [])\n",
        "\n",
        "# Exemplo de uso\n",
        "index = SoundexIndex()\n",
        "palavras = [\"example\", \"sample\", \"exemplo\", \"simplicity\", \"complex\", \"samp\"]\n",
        "\n",
        "for palavra in palavras:\n",
        "    index.add_word(palavra)\n",
        "\n",
        "# Busca por palavras que soam como \"example\"\n",
        "print(index.search(\"example\"))  # Deve retornar \"example\", \"exemplo\" e possivelmente outras variações"
      ],
      "metadata": {
        "id": "dpfkQSqC2M_-"
      },
      "execution_count": null,
      "outputs": []
    }
  ]
}