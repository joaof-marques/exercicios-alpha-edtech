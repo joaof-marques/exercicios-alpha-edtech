{
  "cells": [
    {
      "cell_type": "markdown",
      "metadata": {
        "id": "4SpFkNxf2eIj"
      },
      "source": [
        "**HASHMAP**\n",
        "\n",
        "> *Hashmaps, também conhecidos como dicionários em algumas linguagens de programação, são estruturas de dados que armazenam pares de chave-valor, permitindo a rápida recuperação de um valor associado a uma chave específica. O sucesso desta estrutura reside na função hash, que converte a chave em um índice numérico, apontando para onde o valor está armazenado no array subjacente.*\n",
        "\n",
        "Exemplo básico de dicionário em Python"
      ]
    },
    {
      "cell_type": "code",
      "execution_count": null,
      "metadata": {
        "id": "6i2XmY8c1-Nw"
      },
      "outputs": [],
      "source": [
        "# Criação de um dicionário (hashmap)\n",
        "usuarios = {\n",
        "    'user123': 'Ana Silva',\n",
        "    'user456': 'Carlos Souza',\n",
        "    'user789': 'Beatriz Pereira'\n",
        "}\n",
        "\n",
        "# Inserção de um novo elemento\n",
        "usuarios['user101'] = 'Diana Martins'\n",
        "\n",
        "# Acessando um elemento pelo sua chave\n",
        "print(usuarios['user456'])  # Saída: Carlos Souza\n",
        "\n",
        "# Verificando se uma chave existe no dicionário\n",
        "if 'user999' in usuarios:\n",
        "    print(usuarios['user999'])\n",
        "else:\n",
        "    print('Usuário não encontrado')\n",
        "\n",
        "# Atualizando o valor associado a uma chave\n",
        "usuarios['user789'] = 'Beatriz Gomes'\n",
        "\n",
        "# Removendo um elemento\n",
        "del usuarios['user101']\n",
        "\n",
        "# Iterando sobre os elementos do dicionário\n",
        "for chave, valor in usuarios.items():\n",
        "    print(f\"Chave: {chave}, Valor: {valor}\")\n"
      ]
    },
    {
      "cell_type": "markdown",
      "metadata": {
        "id": "zTFXNmTy3KdC"
      },
      "source": [
        "**DESAFIO**\n",
        "\n",
        "Suponha que queremos armazenar outro nome (Joseph Climber) na mesma chave \"user456\". É possível?"
      ]
    },
    {
      "cell_type": "code",
      "execution_count": null,
      "metadata": {
        "id": "Vux4zFgo2wy6"
      },
      "outputs": [],
      "source": [
        "# Considerando o código base descrito anteriormente teríamos o comportamento\n",
        "usuarios['user456'] = 'Joseph Climber'\n",
        "\n",
        "# Iterando sobre os elementos do dicionário\n",
        "for chave, valor in usuarios.items():\n",
        "    print(f\"Chave: {chave}, Valor: {valor}\")"
      ]
    },
    {
      "cell_type": "markdown",
      "metadata": {
        "id": "T1KLNycX2mus"
      },
      "source": [
        "---\n",
        "**HASHMAP | Agrupamento para tratar colisões**\n",
        "\n",
        "Suponha que queremos armazenar múltiplos valores para uma única chave, simulando uma colisão e o seu tratamento."
      ]
    },
    {
      "cell_type": "code",
      "execution_count": null,
      "metadata": {
        "id": "in4ALZzp2ZRc"
      },
      "outputs": [],
      "source": [
        "# Inicializando um hashmap onde cada chave pode ter múltiplos valores\n",
        "comentarios_por_usuario = {}\n",
        "\n",
        "# Função para adicionar comentários\n",
        "def adicionar_comentario(usuario, comentario):\n",
        "    if usuario not in comentarios_por_usuario:\n",
        "        comentarios_por_usuario[usuario] = [comentario]\n",
        "    else:\n",
        "        comentarios_por_usuario[usuario].append(comentario)\n",
        "\n",
        "# Adicionando comentários\n",
        "adicionar_comentario('user123', 'Adorei o produto!')\n",
        "adicionar_comentario('user123', 'Entrega rápida. Recomendo!')\n",
        "adicionar_comentario('user456', 'Produto veio com defeito.')\n",
        "\n",
        "# Exibindo comentários de um usuário\n",
        "print(\"Comentários do usuário user123:\")\n",
        "for comentario in comentarios_por_usuario['user123']:\n",
        "    print(comentario)\n",
        "\n",
        "# Saída esperada:\n",
        "# Comentários do usuário user123:\n",
        "# Adorei o produto!\n",
        "# Entrega rápida. Recomendo!\n"
      ]
    },
    {
      "cell_type": "markdown",
      "metadata": {
        "id": "5qL0ghHN3oFz"
      },
      "source": [
        "---\n",
        "**HASHMAP | Implementando um Hashmap**\n",
        "\n",
        "Neste exemplo, vamos criar um hashmap simples com uma função hash personalizada para mapear nomes de contatos a seus respectivos números de telefone. A função hash irá converter a chave (nome do contato) em um índice para armazenamento em uma lista (simulando as \"buckets\" ou \"slots\" de um hashmap real)."
      ]
    },
    {
      "cell_type": "code",
      "execution_count": 1,
      "metadata": {
        "id": "WkeGvXYc3vjs"
      },
      "outputs": [
        {
          "name": "stdout",
          "output_type": "stream",
          "text": [
            "Contatos:\n",
            "[Bob] +5511987654322\n",
            "[Alice] +5511987654321\n",
            "[Charlie] +5511987654323\n"
          ]
        }
      ],
      "source": [
        "class SimpleHashmap:\n",
        "    def __init__(self, size=10):\n",
        "        self.size = size\n",
        "        # Inicializa uma lista com listas vazias para armazenar os pares chave-valor\n",
        "        self.buckets = [[] for _ in range(size)]\n",
        "\n",
        "    def hash_function(self, key):\n",
        "        # Uma função hash simples baseada no comprimento da chave\n",
        "        return len(key) % self.size\n",
        "\n",
        "    def insert(self, key, value):\n",
        "        # Calcula o índice usando a função hash\n",
        "        index = self.hash_function(key)\n",
        "        bucket = self.buckets[index]\n",
        "        found_key = False\n",
        "        # Verifica se a chave já existe no bucket\n",
        "        for i, (k, v) in enumerate(bucket):\n",
        "            if k == key:\n",
        "                # Se a chave existe, atualiza o valor\n",
        "                bucket[i] = (key, value)\n",
        "                found_key = True\n",
        "                break\n",
        "        if not found_key:\n",
        "            # Se a chave não existe, adiciona o novo par chave-valor ao bucket\n",
        "            bucket.append((key, value))\n",
        "\n",
        "    def get(self, key):\n",
        "        # Calcula o índice\n",
        "        index = self.hash_function(key)\n",
        "        bucket = self.buckets[index]\n",
        "        # Procura pela chave no bucket\n",
        "        for k, v in bucket:\n",
        "            if k == key:\n",
        "                return v\n",
        "        return None  # Retorna None se a chave não foi encontrada\n",
        "\n",
        "    def printItems(self):\n",
        "        print(\"Contatos:\")\n",
        "        for index, bucket in enumerate(self.buckets):\n",
        "            if bucket:  # Verifica se o bucket não está vazio\n",
        "                for k, v in bucket:\n",
        "                    print(f\"[{k}] {v}\")\n",
        "\n",
        "# Exemplo de uso\n",
        "hashmap = SimpleHashmap()\n",
        "hashmap.insert(\"Alice\", \"+5511987654321\")\n",
        "hashmap.insert(\"Bob\", \"+5511987654322\")\n",
        "hashmap.insert(\"Charlie\", \"+5511987654323\")\n",
        "\n",
        "hashmap.printItems()\n"
      ]
    },
    {
      "cell_type": "markdown",
      "metadata": {
        "id": "mfJvUL9a4iKw"
      },
      "source": [
        "**DESAFIO**\n",
        "\n",
        "Nosso código está preparado para resolver coflitos?"
      ]
    },
    {
      "cell_type": "code",
      "execution_count": 2,
      "metadata": {
        "id": "YLeusGHV4ltd"
      },
      "outputs": [
        {
          "name": "stdout",
          "output_type": "stream",
          "text": [
            "Contatos:\n",
            "[Bob] +5512987654322\n",
            "[Alice] +5511987654321\n",
            "[Charlie] +5511987654323\n"
          ]
        }
      ],
      "source": [
        "hashmap.insert(\"Bob\", \"+5512987654322\")\n",
        "hashmap.printItems()"
      ]
    },
    {
      "cell_type": "code",
      "execution_count": null,
      "metadata": {
        "id": "FtNyThwb9Men"
      },
      "outputs": [],
      "source": [
        "# @title `Solução de Colisões` { display-mode: \"form\" }\n",
        "# @markdown Vamos realizar agora um ajuste na função de inserção de elementos para que ela permita o tratamento de colisões em nosso hashmap.\n",
        "\n",
        "class SimpleHashmap:\n",
        "    def __init__(self, size=10):\n",
        "        self.size = size\n",
        "        # Inicializa uma lista com listas vazias para armazenar os pares chave-valor\n",
        "        self.buckets = [[] for _ in range(size)]\n",
        "\n",
        "    def hash_function(self, key):\n",
        "        # Uma função hash simples baseada no comprimento da chave\n",
        "        return len(key) % self.size\n",
        "\n",
        "    def insert(self, key, value):\n",
        "        index = self.hash_function(key)\n",
        "        bucket = self.buckets[index]\n",
        "        found_key = False\n",
        "        for item in bucket:\n",
        "            if item[0] == key:\n",
        "                item[1].append(value)  # Adiciona o valor à lista de valores para esta chave\n",
        "                found_key = True\n",
        "                break\n",
        "        if not found_key:\n",
        "            bucket.append((key, [value]))  # Cria uma nova lista de valores para uma nova chave\n",
        "\n",
        "    def get(self, key):\n",
        "        # Calcula o índice\n",
        "        index = self.hash_function(key)\n",
        "        bucket = self.buckets[index]\n",
        "        # Procura pela chave no bucket\n",
        "        for k, v in bucket:\n",
        "            if k == key:\n",
        "                return v\n",
        "        return None  # Retorna None se a chave não foi encontrada\n",
        "\n",
        "    def printItems(self):\n",
        "        print(\"Contatos:\")\n",
        "        for index, bucket in enumerate(self.buckets):\n",
        "            if bucket:  # Verifica se o bucket não está vazio\n",
        "                for k, v in bucket:\n",
        "                    print(f\"[{k}] {v}\")\n",
        "\n",
        "# Exemplo de uso\n",
        "hashmap = SimpleHashmap()\n",
        "hashmap.insert(\"Alice\", \"+5511987654321\")\n",
        "hashmap.insert(\"Bob\", \"+5511987654322\")\n",
        "hashmap.insert(\"Charlie\", \"+5511987654323\")\n",
        "hashmap.insert(\"Bob\", \"+5512987654322\")\n",
        "\n",
        "hashmap.printItems()"
      ]
    },
    {
      "cell_type": "markdown",
      "metadata": {
        "id": "oeRHOm0E-HI8"
      },
      "source": [
        "---\n",
        "**EXERCÍCIO**\n",
        "\n",
        "**Sistema de Rastreamento de Pedidos em Tempo Real**\n",
        "\n",
        "Uma empresa de comércio eletrônico deseja melhorar a experiência do cliente oferecendo um sistema de rastreamento de pedidos em tempo real. O sistema deve permitir que os clientes consultem o status atual de seus pedidos usando um código de rastreamento único. Além disso, deve fornecer aos funcionários da empresa a capacidade de atualizar o status dos pedidos à medida que avançam pelas etapas de processamento, embalagem, envio e entrega.\n",
        "\n",
        "**Objetivos**\n",
        "\n",
        "+ Desenvolver um backend simplificado para um sistema de rastreamento de pedidos que utilize um hashmap para armazenar e gerenciar os status dos pedidos.\n",
        "Permitir a inserção e atualização de status de pedidos no hashmap.\n",
        "+ Permitir a consulta do status de um pedido usando um código de rastreamento único.\n",
        "\n",
        "**Requisitos**\n",
        "+ **Inserção de Pedidos:** O sistema deve permitir que um novo pedido seja inserido com um código de rastreamento único e um status inicial.\n",
        "+ **Atualização de Status:** O sistema deve permitir que o status de um pedido existente seja atualizado com base em seu código de rastreamento.\n",
        "+ **Consulta de Status:** Os clientes devem poder consultar o status atual de seu pedido usando o código de rastreamento."
      ]
    },
    {
      "cell_type": "code",
      "execution_count": null,
      "metadata": {
        "id": "cF63s5LGJd72"
      },
      "outputs": [],
      "source": [
        "# @title `Exemplo de Código` { display-mode: \"form\" }\n",
        "\n",
        "class SistemaRastreamento:\n",
        "    def __init__(self):\n",
        "        self.pedidos = {}  # Inicializa um hashmap para armazenar os pedidos\n",
        "\n",
        "    def adicionar_pedido(self, codigo, status):\n",
        "        if codigo in self.pedidos:\n",
        "            print(f\"Código de rastreamento {codigo} já existe.\")\n",
        "        else:\n",
        "            self.pedidos[codigo] = status\n",
        "            print(f\"Pedido {codigo} adicionado com status: {status}.\")\n",
        "\n",
        "    def atualizar_status(self, codigo, status):\n",
        "        if codigo in self.pedidos:\n",
        "            self.pedidos[codigo] = status\n",
        "            print(f\"Status do pedido {codigo} atualizado para: {status}.\")\n",
        "        else:\n",
        "            print(f\"Pedido com código {codigo} não encontrado.\")\n",
        "\n",
        "    def consultar_status(self, codigo):\n",
        "        return self.pedidos.get(codigo, \"Pedido não encontrado.\")\n",
        "\n",
        "# Exemplo de uso\n",
        "sistema = SistemaRastreamento()\n",
        "sistema.adicionar_pedido(\"BR371827283DF\", \"Recebido\")\n",
        "sistema.atualizar_status(\"123ABC\", \"Em processamento\")\n",
        "print(sistema.consultar_status(\"123ABC\"))  # Deve exibir \"Em processamento\"\n"
      ]
    },
    {
      "cell_type": "markdown",
      "metadata": {
        "id": "w31a_zkDJqE1"
      },
      "source": [
        "Utilize o exemplo de código acima como base para implementar funcionalidades adicionais no sistema de rastreamento, como a remoção de pedidos finalizados do sistema e a geração de relatórios de status. Considere aspectos como escalabilidade, tratamento de colisões no hashmap e a eficiência das operações de inserção, atualização e consulta."
      ]
    }
  ],
  "metadata": {
    "colab": {
      "private_outputs": true,
      "provenance": []
    },
    "kernelspec": {
      "display_name": "Python 3",
      "name": "python3"
    },
    "language_info": {
      "codemirror_mode": {
        "name": "ipython",
        "version": 3
      },
      "file_extension": ".py",
      "mimetype": "text/x-python",
      "name": "python",
      "nbconvert_exporter": "python",
      "pygments_lexer": "ipython3",
      "version": "3.10.12"
    }
  },
  "nbformat": 4,
  "nbformat_minor": 0
}
